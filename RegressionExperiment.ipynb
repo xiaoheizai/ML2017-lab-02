{
 "cells": [
  {
   "cell_type": "code",
   "execution_count": 5,
   "metadata": {},
   "outputs": [],
   "source": [
    "from sklearn.datasets import load_svmlight_file\n",
    "from sklearn.model_selection import train_test_split\n",
    "import matplotlib.pyplot as plt \n",
    "import numpy as np\n",
    "import math\n",
    "\n",
    "def getData(fileName):\n",
    "\t'''\n",
    "\t函数作用：读取数据\n",
    "\t:param fileName: 数据的路径\n",
    "\t:return data: data[0]数据矩阵，每一行是一个样本，每一列是一个维度\n",
    "\t\t\t\t  data[1]是数组，对应每个样本的预测值\n",
    "\t'''\n",
    "\tdata = load_svmlight_file(fileName)\n",
    "\treturn data[0], data[1]\n",
    "\n",
    "def addColumnData(dataMatrix, dataType):\n",
    "    '''\n",
    "    函数作用：在矩阵数据后添加一列\n",
    "    '''\n",
    "    row, col = dataMatrix.shape\n",
    "    onesArray = np.ones(row)\n",
    "    dataArray = dataMatrix.toarray()\n",
    "    if dataType == \"train\":\n",
    "        dataTrans = np.column_stack((dataArray, onesArray))\n",
    "    elif dataType == 'test':\n",
    "        zeroArray = np.zeros(row)\n",
    "        tempTrans = np.column_stack((dataArray, zeroArray))\n",
    "        dataTrans = np.column_stack((tempTrans, onesArray))\n",
    "    return dataTrans"
   ]
  },
  {
   "cell_type": "code",
   "execution_count": 6,
   "metadata": {},
   "outputs": [],
   "source": [
    "fileName = './a9a.txt'\n",
    "dataMatrix, dataLabel = getData(fileName)\n",
    "dataArray = addColumnData(dataMatrix, \"train\")"
   ]
  },
  {
   "cell_type": "code",
   "execution_count": 7,
   "metadata": {},
   "outputs": [
    {
     "data": {
      "text/plain": [
       "(32561, 124)"
      ]
     },
     "execution_count": 7,
     "metadata": {},
     "output_type": "execute_result"
    }
   ],
   "source": [
    "dataArray.shape"
   ]
  },
  {
   "cell_type": "code",
   "execution_count": 8,
   "metadata": {},
   "outputs": [],
   "source": [
    "testFileName = './a9aTest.txt'\n",
    "testDataMatrix, testDataLabel = getData(testFileName)\n",
    "testDataArray = addColumnData(testDataMatrix, 'test')"
   ]
  },
  {
   "cell_type": "code",
   "execution_count": 9,
   "metadata": {},
   "outputs": [
    {
     "data": {
      "text/plain": [
       "(16281, 124)"
      ]
     },
     "execution_count": 9,
     "metadata": {},
     "output_type": "execute_result"
    }
   ],
   "source": [
    "testDataArray.shape"
   ]
  },
  {
   "cell_type": "code",
   "execution_count": 10,
   "metadata": {},
   "outputs": [],
   "source": [
    "def initialWeights(data, initialModel = None):\n",
    "\t'''\n",
    "\t函数作用：初始化weights\n",
    "\t:param data: data数据矩阵，每一行是一个样本，每一列是一个维度\n",
    "\t:return weight:返回weight值，array组织\n",
    "\t'''\n",
    "\trow, col = data.shape\n",
    "\tif initialModel == None:\n",
    "\t\tweights = np.zeros(col)\n",
    "\telif initialModel == \"random\":\n",
    "\t\tweights = np.random.rand(col)\n",
    "\telif initialModel == \"normality\":\n",
    "\t\tweights = np.random.standard_normal(col)\n",
    "\treturn weights"
   ]
  },
  {
   "cell_type": "code",
   "execution_count": 11,
   "metadata": {},
   "outputs": [],
   "source": [
    "def getYWX(dataMatrix, dataLabel, weightsParam):\n",
    "\t'''\n",
    "\t函数作用：计算y * W * x\n",
    "\t:param dataMatrix: 数据矩阵，每一行是一个样本，每一列是一个维度\n",
    "\t:param dataLabel: 数组，对应每个样本的预测值\n",
    "\t:param weights: 数组，对应每个维度的weight\n",
    "\t:return\n",
    "\t'''\n",
    "\tpredictTemp = dataMatrix * weightsParam\n",
    "\tpredictValueArray = predictTemp.sum(axis = 1)\n",
    "\ttempValue = dataLabel * predictValueArray \n",
    "\treturn np.longfloat(tempValue)"
   ]
  },
  {
   "cell_type": "code",
   "execution_count": 12,
   "metadata": {},
   "outputs": [],
   "source": [
    "def lossFunction(dataMatrix, dataLabel, weightsParam, lamb):\n",
    "    '''\n",
    "    函数作用：计算损失值\n",
    "    '''\n",
    "    yWX = getYWX(dataMatrix, dataLabel, weightsParam)\n",
    "    row, col = dataMatrix.shape\n",
    "    onesArray = np.ones(row)\n",
    "    eYWX = np.longfloat(np.exp((-1) * yWX))\n",
    "    addEYWX = onesArray + eYWX\n",
    "    logETWX = np.log(addEYWX)\n",
    "    meanETWX = np.mean(logETWX)\n",
    "    w2 = np.sum(weightsParam * weightsParam) * lamb * 0.5\n",
    "    loss = meanETWX + w2\n",
    "    return loss"
   ]
  },
  {
   "cell_type": "code",
   "execution_count": 13,
   "metadata": {},
   "outputs": [],
   "source": [
    "def minibatchData(dataMatrix, dataLabel, sampleNum):\n",
    "    row, col = dataMatrix.shape\n",
    "    randNum = np.random.randint(0, row-51)\n",
    "    miniData = dataMatrix[randNum:(randNum+sampleNum), :]\n",
    "    miniDataLabel = dataLabel[randNum:(randNum+sampleNum)]\n",
    "    return miniData, miniDataLabel"
   ]
  },
  {
   "cell_type": "code",
   "execution_count": 14,
   "metadata": {},
   "outputs": [],
   "source": [
    "def stochasticGradientDescent(dataMatrix, dataLabel, weightsParam, lamb):\n",
    "    '''\n",
    "    函数作用：随机梯度下降\n",
    "    '''\n",
    "    '''\n",
    "    row, col = dataMatrix.shape\n",
    "    YWX = getYWX(dataMatrix, dataLabel, weightsParam)\n",
    "    onesArray = np.ones(row)\n",
    "    eYWX = np.longfloat(np.exp(YWX))\n",
    "    addEYWX = onesArray + eYWX\n",
    "    transData = np.transpose(dataMatrix)\n",
    "    temp = transData * (1 / addEYWX) * (-1)\n",
    "    randNum = np.random.randint(0, row-1)\n",
    "    G = temp[:,randNum] * dataLabel[randNum] + lamb * weightsParam\n",
    "    '''\n",
    "    miniDataMatrix, miniDataLabel = minibatchData(dataMatrix, dataLabel, 50)\n",
    "    row, col = miniDataMatrix.shape\n",
    "    YWX = getYWX(miniDataMatrix, miniDataLabel, weightsParam)\n",
    "    eYWX = np.exp(YWX)\n",
    "    onesArray = np.ones(row)\n",
    "    addEYWX = onesArray + eYWX\n",
    "    transData = np.transpose(miniDataMatrix)\n",
    "    temp = transData / addEYWX * miniDataLabel * (-1)\n",
    "    G = np.mean(temp, axis=1) + lamb * weightsParam\n",
    "    return G"
   ]
  },
  {
   "cell_type": "code",
   "execution_count": 15,
   "metadata": {},
   "outputs": [],
   "source": [
    "def updataWeights(weightsParam, D, alpha):\n",
    "\t'''\n",
    "\t函数作用：更新weights\n",
    "\t'''\n",
    "\tnewWeights = weightsParam - alpha * D\n",
    "\treturn newWeights"
   ]
  },
  {
   "cell_type": "code",
   "execution_count": 16,
   "metadata": {},
   "outputs": [],
   "source": [
    "def addV(weightsParam, v, alpha):\n",
    "    '''\n",
    "    函数作用：NAG中计算新的weight\n",
    "    '''\n",
    "    newWeights = weightsParam - alpha * v\n",
    "    return newWeights    "
   ]
  },
  {
   "cell_type": "code",
   "execution_count": 36,
   "metadata": {},
   "outputs": [],
   "source": [
    "def  plotPicture(LossList1, LossList2, LossList3, LossList4):\n",
    "    '''\n",
    "    :param LossList1:\n",
    "    :param LossList2:\n",
    "    :return:\n",
    "    '''\n",
    "    plt.title('loss value vary with the number of iterations')\n",
    "    plt.plot(LossList1, color=\"blue\", linewidth=2.5, linestyle = \"-\", label=\"NAGLoss\")\n",
    "    plt.plot(LossList2, color=\"red\", linewidth=2.5, linestyle=\"-\", label=\"RMSPropLoss\")\n",
    "    plt.plot(LossList3, color=\"green\", linewidth=2.5, linestyle=\"-\", label=\"AdadeltaLoss\")\n",
    "    plt.plot(LossList4, color=\"black\", linewidth=2.5, linestyle=\"-\", label=\"AdamLoss\")\n",
    "    plt.legend(loc=\"upper right\")\n",
    "    plt.xlabel(\"Fig.1\")\n",
    "    plt.ylabel(\"loss\")\n",
    "    plt.show()"
   ]
  },
  {
   "cell_type": "code",
   "execution_count": 37,
   "metadata": {},
   "outputs": [],
   "source": [
    "def NAGUpdateWeights(weightsParam, v, D, alpha1, alpha2):\n",
    "    '''\n",
    "    函数作用：NAG更新weight\n",
    "    :param weights\n",
    "    :param v:\n",
    "    :param D:\n",
    "    :param alpha1:\n",
    "    :param alpha2:\n",
    "    '''\n",
    "    newV = alpha1 * v + alpha2 * D\n",
    "    newWeights = weightsParam - newV\n",
    "    return newWeights, newV"
   ]
  },
  {
   "cell_type": "code",
   "execution_count": 38,
   "metadata": {},
   "outputs": [],
   "source": [
    "def RMSPROPUpdateWeights(weightsParam, D, decayRate, cacheParam, learningRate):\n",
    "    '''\n",
    "    函数作用：RMSprop更新weight\n",
    "    :param weights:\n",
    "    :param D:\n",
    "    :param decayRate:\n",
    "    :param cache:\n",
    "    :param learningRate:\n",
    "    '''\n",
    "    eps = 1.0e-8\n",
    "    newcache = decayRate * cacheParam + (1 - decayRate) * D * D\n",
    "    newWeights = weightsParam - learningRate * D / (np.sqrt(newcache+ eps))\n",
    "    return newWeights, newcache"
   ]
  },
  {
   "cell_type": "code",
   "execution_count": 39,
   "metadata": {},
   "outputs": [],
   "source": [
    "def adaDeltaUpdateWeights(weightsParam, DParam, GTParam, deltaParam, GRateParam):\n",
    "    '''\n",
    "    函数作用:adaDelta更新weight\n",
    "    '''\n",
    "    eps = 1.0e-6\n",
    "    newGT = GRateParam * GTParam + (1 - GRateParam) * DParam * DParam\n",
    "    #print(deltaParam[:2])\n",
    "    #print(newGT[:2])\n",
    "    #print(deltaParam[:2] + eps)\n",
    "    #print(newGT[:2] + eps)\n",
    "    tempValue = np.sqrt(deltaParam + eps) / np.sqrt(newGT + eps) * DParam * (-1)\n",
    "    newWeights = weightsParam + tempValue\n",
    "    newdelta = GRateParam * deltaParam + (1-GRateParam) * tempValue * tempValue\n",
    "    return newWeights, newGT, newdelta"
   ]
  },
  {
   "cell_type": "code",
   "execution_count": 43,
   "metadata": {},
   "outputs": [],
   "source": [
    "def adamUpdateWeights(weightsParam, DParam, mParam, vParam, belta1, belta2, alpha, t):\n",
    "    '''\n",
    "    函数作用：Adam更新weight\n",
    "    '''\n",
    "    eps = 1.0e-6\n",
    "    newM = belta1 * mParam + (1-belta1) * DParam\n",
    "    newV = belta2 * vParam + (1-belta2) * DParam * DParam\n",
    "    tempM = newM / (1-np.power(belta1,t))\n",
    "    tempV = newV / (1-np.power(belta2,t))\n",
    "    #alpha1 = alpha * np.sqrt(1-belta2) / (1-belta1) \n",
    "    newWeights = weightsParam - alpha * tempM / (np.sqrt(tempV) + eps)\n",
    "    return newWeights, newM, newV"
   ]
  },
  {
   "cell_type": "code",
   "execution_count": 44,
   "metadata": {},
   "outputs": [],
   "source": [
    "def run():\n",
    "    '''\n",
    "    主体函数\n",
    "    '''\n",
    "    fileName = './a9a.txt'\n",
    "    dataMatrix, dataLabel = getData(fileName)\n",
    "    dataArray = addColumnData(dataMatrix, \"train\")\n",
    "    testFileName = './a9aTest.txt'\n",
    "    testDataMatrix, testDataLabel = getData(testFileName)\n",
    "    testDataArray = addColumnData(testDataMatrix, 'test')\n",
    "    weights = initialWeights(testDataArray, initialModel = \"random\")\n",
    "    weightsRms = initialWeights(testDataArray, initialModel = \"random\")\n",
    "    weightsAda = initialWeights(testDataArray, initialModel = 'random')\n",
    "    weightsAdam = initialWeights(testDataArray, initialModel = \"random\")\n",
    "    vNAG = initialWeights(testDataArray, initialModel = None)\n",
    "    cache = initialWeights(testDataArray, initialModel = None)\n",
    "    GT = initialWeights(testDataArray, initialModel = None)\n",
    "    delta = initialWeights(testDataArray, initialModel = None)\n",
    "    adamM = initialWeights(testDataArray, initialModel = None)\n",
    "    adamV = initialWeights(testDataArray, initialModel = None)\n",
    "    NAGLossList = []\n",
    "    RMSLossList = []\n",
    "    ADALossList = []\n",
    "    AdamLossList = []\n",
    "    iterNum = 200\n",
    "    alpha1 = 0.9   #NAG的参数\n",
    "    alpha2 = 0.01  #learnRate\n",
    "    alpha3 = 0.5   #损失函数中weights的参数\n",
    "    decayRate = 0.9\n",
    "    GRate = 0.95\n",
    "    belta1 = 0.9\n",
    "    belta2 = 0.999\n",
    "    adamAlpha = 0.01\n",
    "    for i in range(iterNum):\n",
    "        ##NAG\n",
    "        testLoss = lossFunction(testDataArray, testDataLabel, weights, alpha3)\n",
    "        NAGLossList.append(testLoss)\n",
    "        weightNAG = addV(weights, vNAG, alpha1)\n",
    "        DNAG = stochasticGradientDescent(dataArray, dataLabel, weightNAG, alpha3)\n",
    "        weights, vNAG =NAGUpdateWeights(weightNAG, vNAG, DNAG, alpha1, alpha2)\n",
    "        ##RMSprop\n",
    "        testLoss1 = lossFunction(testDataArray, testDataLabel, weightsRms, alpha3)\n",
    "        RMSLossList.append(testLoss1)\n",
    "        DRMS = stochasticGradientDescent(dataArray, dataLabel, weightsRms, alpha3)\n",
    "        weightsRms, cache = RMSPROPUpdateWeights(weightsRms, DRMS, decayRate, cache, alpha2)\n",
    "        ##adaDelta\n",
    "        testLoss2 = lossFunction(testDataArray, testDataLabel, weightsAda, alpha3)\n",
    "        ADALossList.append(testLoss2)\n",
    "        DADA = stochasticGradientDescent(dataArray, dataLabel, weightsAda, alpha3)\n",
    "        weightsAda, GT, delta = adaDeltaUpdateWeights(weightsAda, DADA, GT, delta, GRate)\n",
    "        #Adam\n",
    "        testLoss3 = lossFunction(testDataArray, testDataLabel, weightsAdam, alpha3)\n",
    "        AdamLossList.append(testLoss3)\n",
    "        DAdam = stochasticGradientDescent(dataArray, dataLabel, weightsAdam, alpha3)\n",
    "        weightsAdam, adamM, adamV = adamUpdateWeights(weightsAdam, DAdam, adamM, adamV, belta1, belta2, adamAlpha, i+1)\n",
    "    plotPicture(NAGLossList, RMSLossList, ADALossList, AdamLossList)"
   ]
  },
  {
   "cell_type": "code",
   "execution_count": 45,
   "metadata": {},
   "outputs": [
    {
     "data": {
      "image/png": "[encoded data removed]",
      "text/plain": [
       "<matplotlib.figure.Figure at 0xa394978>"
      ]
     },
     "metadata": {},
     "output_type": "display_data"
    }
   ],
   "source": [
    "run()"
   ]
  },
  {
   "cell_type": "code",
   "execution_count": null,
   "metadata": {},
   "outputs": [],
   "source": []
  }
 ],
 "metadata": {
  "kernelspec": {
   "display_name": "Python 3",
   "language": "python",
   "name": "python3"
  },
  "language_info": {
   "codemirror_mode": {
    "name": "ipython",
    "version": 3
   },
   "file_extension": ".py",
   "mimetype": "text/x-python",
   "name": "python",
   "nbconvert_exporter": "python",
   "pygments_lexer": "ipython3",
   "version": "3.6.2"
  }
 },
 "nbformat": 4,
 "nbformat_minor": 2
}
